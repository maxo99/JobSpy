{
 "cells": [
  {
   "cell_type": "code",
   "execution_count": null,
   "id": "289a0e1d",
   "metadata": {},
   "outputs": [],
   "source": [
    "import csv\n",
    "from jobspy import scrape_jobs\n",
    "\n",
    "jobs = scrape_jobs(\n",
    "    site_name=[\"indeed\", \"linkedin\", \"zip_recruiter\", \"glassdoor\", \"google\", \"bayt\", \"naukri\"],\n",
    "    search_term=\"software engineer\",\n",
    "    # google_search_term=\"software engineer jobs near San Francisco, CA since yesterday\",\n",
    "    # location=\"San Francisco, CA\",\n",
    "    is_remote=True,\n",
    "    results_wanted=20,\n",
    "    hours_old=72,\n",
    "    country_indeed='USA',\n",
    "    \n",
    "    # linkedin_fetch_description=True # gets more info such as description, direct job url (slower)\n",
    "    # proxies=[\"208.195.175.46:65095\", \"208.195.175.45:65095\", \"localhost\"],\n",
    ")\n",
    "\n",
    "print(f\"Found {len(jobs)} jobs\")\n",
    "print(jobs.head())\n",
    "jobs.to_csv(\"jobs.csv\", quoting=csv.QUOTE_NONNUMERIC, escapechar=\"\\\\\", index=False) # to_excel"
   ]
  }
 ],
 "metadata": {
  "kernelspec": {
   "display_name": "Python 3",
   "language": "python",
   "name": "python3"
  },
  "language_info": {
   "name": "python",
   "version": "3.12.3"
  }
 },
 "nbformat": 4,
 "nbformat_minor": 5
}
