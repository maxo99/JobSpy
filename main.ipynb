{
 "cells": [
  {
   "cell_type": "code",
   "execution_count": null,
   "id": "289a0e1d",
   "metadata": {},
   "outputs": [
    {
     "name": "stdout",
     "output_type": "stream",
     "text": [
      "Found 60 jobs - raw\n"
     ]
    }
   ],
   "source": [
    "import csv\n",
    "from jobspy import scrape_jobs\n",
    "\n",
    "python_jobs = scrape_jobs(\n",
    "    site_name=[\n",
    "        \"indeed\",\n",
    "        \"linkedin\",\n",
    "        # \"zip_recruiter\",\n",
    "        # \"glassdoor\",\n",
    "        # \"google\",\n",
    "        # \"bayt\",\n",
    "        # \"naukri\",\n",
    "    ],\n",
    "    search_term=\"python software engineer\",\n",
    "    # google_search_term=\"software engineer jobs near San Francisco, CA since yesterday\",\n",
    "    # location=\"San Francisco, CA\",\n",
    "    is_remote=True,\n",
    "    results_wanted=30,\n",
    "    hours_old=72,\n",
    "    country_indeed=\"USA\",\n",
    "    linkedin_fetch_description=True,\n",
    ")\n",
    "\n",
    "print(f\"Found {len(python_jobs)} jobs - raw\")\n"
   ]
  },
  {
   "cell_type": "code",
   "execution_count": null,
   "id": "e147d147",
   "metadata": {},
   "outputs": [],
   "source": [
    "# Cleanup\n",
    "FILTERS = [\"Full Stack\", \"Front End\", \".Net\",'Intern', 'New Grad', 'Junior']\n",
    "\n",
    "mask = jobs[\"title\"].apply(lambda x: any(word in x for word in FILTERS))\n",
    "\n",
    "# Drop rows where the title contains any word from FILTERS\n",
    "jobs = jobs[~mask]\n",
    "\n",
    "jobs = jobs[jobs[\"is_remote\"].bool() in (True, None)]\n",
    "print(f\"Found {len(jobs)} jobs - filtered\")\n"
   ]
  },
  {
   "cell_type": "code",
   "execution_count": null,
   "id": "fa485173",
   "metadata": {},
   "outputs": [],
   "source": [
    "# Export\n",
    "jobs.to_csv(\n",
    "    \"jobs.csv\", quoting=csv.QUOTE_NONNUMERIC, escapechar=\"\\\\\", index=False\n",
    ")  # to_excel"
   ]
  }
 ],
 "metadata": {
  "kernelspec": {
   "display_name": ".venv",
   "language": "python",
   "name": "python3"
  },
  "language_info": {
   "codemirror_mode": {
    "name": "ipython",
    "version": 3
   },
   "file_extension": ".py",
   "mimetype": "text/x-python",
   "name": "python",
   "nbconvert_exporter": "python",
   "pygments_lexer": "ipython3",
   "version": "3.12.3"
  }
 },
 "nbformat": 4,
 "nbformat_minor": 5
}
